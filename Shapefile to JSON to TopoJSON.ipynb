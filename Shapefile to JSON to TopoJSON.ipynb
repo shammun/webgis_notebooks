{
 "cells": [
  {
   "cell_type": "markdown",
   "metadata": {},
   "source": [
    "### Convert shapefile to GeoJSON"
   ]
  },
  {
   "cell_type": "markdown",
   "metadata": {},
   "source": [
    "Let's convert the shapefile **ne_10m_admin_0_countries.shp** to **countries.json**"
   ]
  },
  {
   "cell_type": "markdown",
   "metadata": {},
   "source": [
    "Install gdal binaries."
   ]
  },
  {
   "cell_type": "markdown",
   "metadata": {},
   "source": [
    "> ogr2ogr -f GeoJSON countries.json ne_10m_admin_0_countries.shp"
   ]
  },
  {
   "cell_type": "markdown",
   "metadata": {},
   "source": [
    "![](shp_json_topo_1.png)"
   ]
  },
  {
   "cell_type": "markdown",
   "metadata": {},
   "source": [
    "We can also use **shp2json** command from **shapoefile** package."
   ]
  },
  {
   "cell_type": "markdown",
   "metadata": {},
   "source": [
    "> shp2json ne_10m_admin_0_countries.shp --out countries_adm0.json"
   ]
  },
  {
   "cell_type": "markdown",
   "metadata": {},
   "source": [
    "Let's have a look at the **countries.json** file."
   ]
  },
  {
   "cell_type": "markdown",
   "metadata": {},
   "source": [
    "![](shp_json_topo_3.png)"
   ]
  },
  {
   "cell_type": "markdown",
   "metadata": {},
   "source": [
    "### Using GeoJSON in d3"
   ]
  },
  {
   "cell_type": "markdown",
   "metadata": {},
   "source": [
    "![](shp_json_topo_10.png)"
   ]
  },
  {
   "cell_type": "markdown",
   "metadata": {},
   "source": [
    "![](shp_json_topo_11.png)"
   ]
  },
  {
   "cell_type": "markdown",
   "metadata": {},
   "source": [
    "## Convert GeoJSON to TopoJSON"
   ]
  },
  {
   "cell_type": "markdown",
   "metadata": {},
   "source": [
    "Now, convert GeoJSON to TopoJSON which is a compressed version of GeoJSON."
   ]
  },
  {
   "cell_type": "markdown",
   "metadata": {},
   "source": [
    "### Install topoJSON using NPM"
   ]
  },
  {
   "cell_type": "markdown",
   "metadata": {},
   "source": [
    "> npm install -g topojson"
   ]
  },
  {
   "cell_type": "markdown",
   "metadata": {},
   "source": [
    "Now, convert JSON to topoJSON using **ge2topo** command"
   ]
  },
  {
   "cell_type": "markdown",
   "metadata": {},
   "source": [
    "![](shp_json_topo_2.png)"
   ]
  },
  {
   "cell_type": "markdown",
   "metadata": {},
   "source": [
    "Now, let's have a look at this newly created topojson file **topo_countries.json**"
   ]
  },
  {
   "cell_type": "markdown",
   "metadata": {},
   "source": [
    "![](shp_json_topo_5.png)"
   ]
  },
  {
   "cell_type": "markdown",
   "metadata": {},
   "source": [
    "### Using topoJSON in d3"
   ]
  },
  {
   "cell_type": "markdown",
   "metadata": {},
   "source": [
    "![](shp_json_topo_8.png)"
   ]
  },
  {
   "cell_type": "markdown",
   "metadata": {},
   "source": [
    "![](shp_json_topo_9.png)"
   ]
  },
  {
   "cell_type": "markdown",
   "metadata": {},
   "source": [
    "## Simplify TopoJSON"
   ]
  },
  {
   "cell_type": "markdown",
   "metadata": {},
   "source": [
    "Further simplify the topoJSON file."
   ]
  },
  {
   "cell_type": "markdown",
   "metadata": {},
   "source": [
    "> toposimplify -s 1e-9 -f < topo_countries.json > topo_countries_simplified.json"
   ]
  },
  {
   "cell_type": "markdown",
   "metadata": {},
   "source": [
    "![](shp_json_topo_4.png)"
   ]
  },
  {
   "cell_type": "markdown",
   "metadata": {},
   "source": [
    "Now, let's have a look at this simplified JSON."
   ]
  },
  {
   "cell_type": "markdown",
   "metadata": {},
   "source": [
    "![](shp_json_topo_6.png)"
   ]
  },
  {
   "cell_type": "markdown",
   "metadata": {},
   "source": [
    "For example, if you do not need much detail in a very jagged coast of a country, you can apply line-simplification algorithms to smooth out the jaggedness and significantly reduce the size of the TopoJSON file. The command-line parameter you use is -s to adjust the simplification in the TopoJSON simplification. We typically realize that when dealing with shapefiles from DIVA-GIS, the best range is around 7e-7 to keep within the per-pixel threshold, which is less than the area of the map. "
   ]
  },
  {
   "cell_type": "markdown",
   "metadata": {},
   "source": [
    "**-s 1e-4** gives us good quality for the case in hand."
   ]
  },
  {
   "cell_type": "markdown",
   "metadata": {},
   "source": [
    "### Using simplified TopoJSON in d3 -- same as TopoJSON"
   ]
  },
  {
   "cell_type": "markdown",
   "metadata": {},
   "source": [
    "![](shp_json_topo_12.png)"
   ]
  },
  {
   "cell_type": "markdown",
   "metadata": {},
   "source": [
    "## Merging json files"
   ]
  },
  {
   "cell_type": "markdown",
   "metadata": {},
   "source": [
    "There are two shapefiles associated 2 different administrative boundaries. We will merge these two files and then map them, the files are **ESP_adm0.shp** and **ESP_adm1.shp**."
   ]
  },
  {
   "cell_type": "markdown",
   "metadata": {},
   "source": [
    "First convert them to **.json** file."
   ]
  },
  {
   "cell_type": "markdown",
   "metadata": {},
   "source": [
    "> shp2json ESP_adm0.shp --out ESP_adm0.json"
   ]
  },
  {
   "cell_type": "markdown",
   "metadata": {},
   "source": [
    "> shp2json ESP_adm1.shp --out ESP_adm1.json"
   ]
  },
  {
   "cell_type": "markdown",
   "metadata": {},
   "source": [
    "![](shp_json_topo_13.png)"
   ]
  },
  {
   "cell_type": "markdown",
   "metadata": {},
   "source": [
    "We can merge them in 2 ways. We can either merge the objects with the object names unchanged or we can rename the objects as we merge."
   ]
  },
  {
   "cell_type": "markdown",
   "metadata": {},
   "source": [
    "### Merging without changing the objects' names "
   ]
  },
  {
   "cell_type": "markdown",
   "metadata": {},
   "source": [
    "> geo2topo ESP_adm1.json ESP_adm0.json > spain_admin.json"
   ]
  },
  {
   "cell_type": "markdown",
   "metadata": {},
   "source": [
    "![](shp_json_topo_14_0.png)"
   ]
  },
  {
   "cell_type": "markdown",
   "metadata": {},
   "source": [
    "Now, let's have a look at the structure of **spain_admin.json** file."
   ]
  },
  {
   "cell_type": "markdown",
   "metadata": {},
   "source": [
    "![](shp_json_topo_14.png)"
   ]
  },
  {
   "cell_type": "markdown",
   "metadata": {},
   "source": [
    "### Merging with the change of the objects' names "
   ]
  },
  {
   "cell_type": "markdown",
   "metadata": {},
   "source": [
    "> geo2topo regions=ESP_adm1.json country=ESP_adm0.json > spain_admin_merged.json"
   ]
  },
  {
   "cell_type": "markdown",
   "metadata": {},
   "source": [
    "![](shp_json_topo_15.png)"
   ]
  },
  {
   "cell_type": "markdown",
   "metadata": {},
   "source": [
    "Now, the object names are changed."
   ]
  },
  {
   "cell_type": "markdown",
   "metadata": {},
   "source": [
    "![](shp_json_topo_16.png)"
   ]
  },
  {
   "cell_type": "markdown",
   "metadata": {},
   "source": [
    "### Now, simplify this"
   ]
  },
  {
   "cell_type": "markdown",
   "metadata": {},
   "source": [
    "> toposimplify -s 1e-9 -f < spain_admin_merged.json > spain_admin_merged_simple.json"
   ]
  },
  {
   "cell_type": "markdown",
   "metadata": {},
   "source": [
    "![](shp_json_topo_17.png)"
   ]
  },
  {
   "cell_type": "markdown",
   "metadata": {},
   "source": [
    "Now, map this file **spain_admin_merged_simple.json** using d3."
   ]
  },
  {
   "cell_type": "markdown",
   "metadata": {},
   "source": [
    "![](shp_json_topo_18.png)"
   ]
  },
  {
   "cell_type": "markdown",
   "metadata": {},
   "source": [
    "![](shp_json_topo_19.png)"
   ]
  },
  {
   "cell_type": "markdown",
   "metadata": {},
   "source": [
    "Now, we will see the following map in the browser."
   ]
  },
  {
   "cell_type": "markdown",
   "metadata": {},
   "source": [
    "![](shp_json_topo_20.png)"
   ]
  },
  {
   "cell_type": "code",
   "execution_count": null,
   "metadata": {},
   "outputs": [],
   "source": []
  }
 ],
 "metadata": {
  "kernelspec": {
   "display_name": "Python 3",
   "language": "python",
   "name": "python3"
  },
  "language_info": {
   "codemirror_mode": {
    "name": "ipython",
    "version": 3
   },
   "file_extension": ".py",
   "mimetype": "text/x-python",
   "name": "python",
   "nbconvert_exporter": "python",
   "pygments_lexer": "ipython3",
   "version": "3.7.6"
  }
 },
 "nbformat": 4,
 "nbformat_minor": 4
}
